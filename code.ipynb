{
  "metadata": {
    "kernelspec": {
      "name": "python",
      "display_name": "Python (Pyodide)",
      "language": "python"
    },
    "language_info": {
      "codemirror_mode": {
        "name": "python",
        "version": 3
      },
      "file_extension": ".py",
      "mimetype": "text/x-python",
      "name": "python",
      "nbconvert_exporter": "python",
      "pygments_lexer": "ipython3",
      "version": "3.8"
    }
  },
  "nbformat_minor": 4,
  "nbformat": 4,
  "cells": [
    {
      "cell_type": "markdown",
      "source": "Recently, Heart diseases rate has been increased and it’s becoming more common among people,\nwhich leads to many serious problems in people's lives that can be led to death.\nIn our project, we will study and analyze patients’ data that will help us well\nin identifying possible factors and risks that lead to heart diseases and help many\npeople to take precautions by predicting the possibility of having a heart disease.\n\nIn our project we will use two data mining tasks to help us predict the possibility of having heart diseases \nwhich are classification and clustering. For classification we will train our model to be able to classify\nif the patient has heart diseases or not based on a set of medical examinations.\nFor the clustering our model will create a set of clusters for the patient who has similar characteristics,\nthen these clusters will be used to predict new patients’ results.\n\nThe dataset used in this study : Heart Disease Dataset (kaggle.com)",
      "metadata": {}
    },
    {
      "cell_type": "code",
      "source": "import pandas as pd\ndf = pd.read_csv('heart.csv')\nprint(df.isnull().values.any())\n",
      "metadata": {
        "trusted": true
      },
      "outputs": [
        {
          "name": "stdout",
          "text": "False\n",
          "output_type": "stream"
        }
      ],
      "execution_count": 3
    },
    {
      "cell_type": "code",
      "source": "import pandas as pd\ndf = pd.read_csv('heart.csv')\nprint(df)",
      "metadata": {
        "trusted": true
      },
      "outputs": [
        {
          "name": "stdout",
          "text": "      age  sex  cp  trestbps  chol  fbs  restecg  thalach  exang  oldpeak  \\\n0      52    1   0       125   212    0        1      168      0      1.0   \n1      53    1   0       140   203    1        0      155      1      3.1   \n2      70    1   0       145   174    0        1      125      1      2.6   \n3      61    1   0       148   203    0        1      161      0      0.0   \n4      62    0   0       138   294    1        1      106      0      1.9   \n...   ...  ...  ..       ...   ...  ...      ...      ...    ...      ...   \n1020   59    1   1       140   221    0        1      164      1      0.0   \n1021   60    1   0       125   258    0        0      141      1      2.8   \n1022   47    1   0       110   275    0        0      118      1      1.0   \n1023   50    0   0       110   254    0        0      159      0      0.0   \n1024   54    1   0       120   188    0        1      113      0      1.4   \n\n      slope  ca  thal  target  \n0         2   2     3       0  \n1         0   0     3       0  \n2         0   0     3       0  \n3         2   1     3       0  \n4         1   3     2       0  \n...     ...  ..   ...     ...  \n1020      2   0     2       1  \n1021      1   1     3       0  \n1022      1   1     2       0  \n1023      2   0     2       1  \n1024      1   1     3       0  \n\n[1025 rows x 14 columns]\n",
          "output_type": "stream"
        }
      ],
      "execution_count": 4
    },
    {
      "cell_type": "markdown",
      "source": "as we can see from the previous code, the data set contains 1025 rows and 14 coulmns.",
      "metadata": {}
    },
    {
      "cell_type": "code",
      "source": "import pandas as pd\ndf = pd.read_csv('heart.csv')\nprint(df.describe())",
      "metadata": {
        "trusted": true
      },
      "outputs": [
        {
          "name": "stdout",
          "text": "               age          sex           cp     trestbps        chol  \\\ncount  1025.000000  1025.000000  1025.000000  1025.000000  1025.00000   \nmean     54.434146     0.695610     0.942439   131.611707   246.00000   \nstd       9.072290     0.460373     1.029641    17.516718    51.59251   \nmin      29.000000     0.000000     0.000000    94.000000   126.00000   \n25%      48.000000     0.000000     0.000000   120.000000   211.00000   \n50%      56.000000     1.000000     1.000000   130.000000   240.00000   \n75%      61.000000     1.000000     2.000000   140.000000   275.00000   \nmax      77.000000     1.000000     3.000000   200.000000   564.00000   \n\n               fbs      restecg      thalach        exang      oldpeak  \\\ncount  1025.000000  1025.000000  1025.000000  1025.000000  1025.000000   \nmean      0.149268     0.529756   149.114146     0.336585     1.071512   \nstd       0.356527     0.527878    23.005724     0.472772     1.175053   \nmin       0.000000     0.000000    71.000000     0.000000     0.000000   \n25%       0.000000     0.000000   132.000000     0.000000     0.000000   \n50%       0.000000     1.000000   152.000000     0.000000     0.800000   \n75%       0.000000     1.000000   166.000000     1.000000     1.800000   \nmax       1.000000     2.000000   202.000000     1.000000     6.200000   \n\n             slope           ca         thal       target  \ncount  1025.000000  1025.000000  1025.000000  1025.000000  \nmean      1.385366     0.754146     2.323902     0.513171  \nstd       0.617755     1.030798     0.620660     0.500070  \nmin       0.000000     0.000000     0.000000     0.000000  \n25%       1.000000     0.000000     2.000000     0.000000  \n50%       1.000000     0.000000     2.000000     1.000000  \n75%       2.000000     1.000000     3.000000     1.000000  \nmax       2.000000     4.000000     3.000000     1.000000  \n",
          "output_type": "stream"
        }
      ],
      "execution_count": 5
    },
    {
      "cell_type": "markdown",
      "source": "the following code show's the dataset attributes along with data types.",
      "metadata": {}
    },
    {
      "cell_type": "code",
      "source": "import pandas as pd\ndf = pd.read_csv('heart.csv')\nprint(df.info())",
      "metadata": {
        "trusted": true
      },
      "outputs": [
        {
          "name": "stdout",
          "text": "<class 'pandas.core.frame.DataFrame'>\nRangeIndex: 1025 entries, 0 to 1024\nData columns (total 14 columns):\n #   Column    Non-Null Count  Dtype  \n---  ------    --------------  -----  \n 0   age       1025 non-null   int64  \n 1   sex       1025 non-null   int64  \n 2   cp        1025 non-null   int64  \n 3   trestbps  1025 non-null   int64  \n 4   chol      1025 non-null   int64  \n 5   fbs       1025 non-null   int64  \n 6   restecg   1025 non-null   int64  \n 7   thalach   1025 non-null   int64  \n 8   exang     1025 non-null   int64  \n 9   oldpeak   1025 non-null   float64\n 10  slope     1025 non-null   int64  \n 11  ca        1025 non-null   int64  \n 12  thal      1025 non-null   int64  \n 13  target    1025 non-null   int64  \ndtypes: float64(1), int64(13)\nmemory usage: 112.2 KB\nNone\n",
          "output_type": "stream"
        }
      ],
      "execution_count": 6
    },
    {
      "cell_type": "markdown",
      "source": "here is a code to show a graphical representation to display outliers in the attribute Age:",
      "metadata": {}
    },
    {
      "cell_type": "code",
      "source": "import pandas as pd\nimport matplotlib.pyplot as plt\ndf = pd.read_csv('heart.csv')\ndf.head()\nplt.boxplot(df['age'])\nplt.title('Boxplot to Identify Outliers in age')\nplt.ylabel('Values')\nplt.show()",
      "metadata": {
        "trusted": true
      },
      "outputs": [
        {
          "output_type": "display_data",
          "data": {
            "text/plain": "<Figure size 640x480 with 1 Axes>",
            "image/png": "[encoded data removed]"
          },
          "metadata": {}
        }
      ],
      "execution_count": 8
    }
  ]
}